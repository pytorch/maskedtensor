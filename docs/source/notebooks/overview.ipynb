{
 "cells": [
  {
   "cell_type": "markdown",
   "metadata": {
    "id": "JF8WDyTRq0Hn"
   },
   "source": [
    "# Overview of MaskedTensors"
   ]
  },
  {
   "cell_type": "markdown",
   "metadata": {},
   "source": [
    "[![Open in Colab](https://colab.research.google.com/assets/colab-badge.svg)](https://colab.research.google.com/github/pytorch/maskedtensor/blob/main/docs/source/notebooks/overview.ipynb)"
   ]
  },
  {
   "cell_type": "code",
   "execution_count": 3,
   "metadata": {
    "id": "XHPLFh2Qf4ZL"
   },
   "outputs": [],
   "source": [
    "import torch\n",
    "import numpy as np\n",
    "from maskedtensor import masked_tensor"
   ]
  },
  {
   "cell_type": "markdown",
   "metadata": {
    "id": "aSD_zzXcWLvK"
   },
   "source": [
    "## Basic masking semantics"
   ]
  },
  {
   "cell_type": "markdown",
   "metadata": {},
   "source": [
    "### MaskedTensor vs NumPy's MaskedArray semantics"
   ]
  },
  {
   "cell_type": "code",
   "execution_count": 4,
   "metadata": {
    "colab": {
     "base_uri": "https://localhost:8080/"
    },
    "id": "FrNr_-yfjcsr",
    "outputId": "b1b03759-1e8c-4cf3-bdae-0be4900ee8ea"
   },
   "outputs": [
    {
     "name": "stdout",
     "output_type": "stream",
     "text": [
      "masked_tensor(\n",
      "  [  0.0000,   1.0000,       --,   3.0000,       --]\n",
      ")\n",
      "masked_tensor(\n",
      "  [      --,       --,   2.0000,       --,   4.0000]\n",
      ")\n",
      "masked_tensor(\n",
      "  [  1.0000,   0.5403,       --,  -0.9900,       --]\n",
      ")\n",
      "masked_tensor(\n",
      "  [  0.0000,   2.0000,       --,   6.0000,       --]\n",
      ")\n",
      "Input masks must match. If you need support for this, please open an issue on Github.\n"
     ]
    }
   ],
   "source": [
    "# First example of addition\n",
    "data = torch.arange(5.)\n",
    "mask = torch.tensor([True, True, False, True, False])\n",
    "m0 = masked_tensor(data, mask)\n",
    "m1 = masked_tensor(data, ~mask)\n",
    "\n",
    "print(m0)\n",
    "print(m1)\n",
    "print(torch.cos(m0))\n",
    "print(m0 + m0)\n",
    "\n",
    "try:\n",
    "  # For now the masks must match. We treat them like shapes.\n",
    "  # We can relax this later on, but should have a good reason for it.\n",
    "  # We'll revisit this once we have reductions.\n",
    "  print(m0 + m1)\n",
    "except ValueError as e:\n",
    "  print(e)"
   ]
  },
  {
   "cell_type": "markdown",
   "metadata": {
    "id": "RMHT1RebL8PR"
   },
   "source": [
    "NumPy's MaskedArray implements intersection semantics here. If one of two elements are masked out the resulting element will be masked out as well. Note that MaskedArray's factory function inverts the mask (similar to torch.nn.MHA). For MaskedTensor we'd apply the logical_and operator to both masks during a binary operation to get the semantics NumPy has. Since NumPy stores the inverted mask they [apply the logical_or operator](https://github.com/numpy/numpy/blob/68299575d8595d904aff6f28e12d21bf6428a4ba/numpy/ma/core.py#L1016-L1024). But to repeat this point we suggest to not support addition between MaskedTensors with masks that don't match. See the section on reductions for why we should have good reasons for this."
   ]
  },
  {
   "cell_type": "code",
   "execution_count": 7,
   "metadata": {
    "colab": {
     "base_uri": "https://localhost:8080/"
    },
    "id": "-tmWxZ9NKEgE",
    "outputId": "5997cae5-f4c4-4422-b6d1-c80fd59c4001"
   },
   "outputs": [
    {
     "name": "stdout",
     "output_type": "stream",
     "text": [
      "npm0:        [0.0 1.0 -- 3.0 --]\n",
      "npm1:        [-- -- 2.0 -- 4.0]\n",
      "npm0 + npm1: [-- -- -- -- --]\n"
     ]
    }
   ],
   "source": [
    "npm0 = np.ma.masked_array(data.numpy(), (~mask).numpy())\n",
    "npm1 = np.ma.masked_array(data.numpy(), (mask).numpy())\n",
    "print(\"npm0:       \", npm0)\n",
    "print(\"npm1:       \", npm1)\n",
    "print(\"npm0 + npm1:\", npm0 + npm1)"
   ]
  },
  {
   "cell_type": "markdown",
   "metadata": {
    "id": "SljV_QCfMEu7"
   },
   "source": [
    "MaskedTensor also supports these semantics by giving access to the masks and conveniently converting a MaskedTensor to a Tensor with masked values filled in with a particular value.\n",
    "\n",
    "NumPy of course has the opportunity to avoid addition altogether in this case by check whether any results are not masked, but [chooses not to](https://github.com/numpy/numpy/blob/68299575d8595d904aff6f28e12d21bf6428a4ba/numpy/ma/core.py#L1013). Presumably it's more expensive to allreduce the mask every time to avoid the binary addition of the data in this case."
   ]
  },
  {
   "cell_type": "code",
   "execution_count": 7,
   "metadata": {
    "colab": {
     "base_uri": "https://localhost:8080/"
    },
    "id": "D-TCtDEJJzeV",
    "outputId": "de7bd486-4a0f-4645-8c38-63b5b16eb55f"
   },
   "outputs": [
    {
     "name": "stdout",
     "output_type": "stream",
     "text": [
      "tensor([0., 1., 0., 3., 0.])\n",
      "tensor([0., 0., 2., 0., 4.])\n",
      "masked_tensor(\n",
      "  [      --,       --,       --,       --,       --]\n",
      ")\n"
     ]
    }
   ],
   "source": [
    "m0t = m0.to_tensor(0)\n",
    "m1t = m1.to_tensor(0)\n",
    "\n",
    "m2t = masked_tensor(m0t + m1t, m0.mask() & m1.mask())\n",
    "print(m0t)\n",
    "print(m1t)\n",
    "print(m2t)"
   ]
  },
  {
   "cell_type": "markdown",
   "metadata": {},
   "source": [
    "### MaskedTensor reduction semantics"
   ]
  },
  {
   "cell_type": "markdown",
   "metadata": {
    "id": "zAbRZK3QZgge"
   },
   "source": [
    "Example of printing a 2d MaskedTensor and setup for reductions below"
   ]
  },
  {
   "cell_type": "code",
   "execution_count": 9,
   "metadata": {
    "colab": {
     "base_uri": "https://localhost:8080/"
    },
    "id": "y9tv_SP8oI7Z",
    "outputId": "006fbfc2-a59c-4205-919e-d866203aa840"
   },
   "outputs": [
    {
     "name": "stdout",
     "output_type": "stream",
     "text": [
      "tensor([[  5.,   0.,  -2.],\n",
      "        [-15.,   7.,   5.],\n",
      "        [  0.,  22., -33.],\n",
      "        [ -5.,   6.,   0.],\n",
      "        [ -4.,  -4.,  -1.],\n",
      "        [-13.,   4.,  -1.],\n",
      "        [ -9.,   0.,  -3.],\n",
      "        [  9., -13.,  -5.]])\n",
      "tensor([[False,  True, False],\n",
      "        [False, False,  True],\n",
      "        [ True,  True,  True],\n",
      "        [False, False, False],\n",
      "        [False, False, False],\n",
      "        [ True, False, False],\n",
      "        [ True,  True, False],\n",
      "        [False,  True, False]])\n",
      "masked_tensor(\n",
      "  [\n",
      "    [      --,   0.0000,       --],\n",
      "    [      --,       --,   5.0000],\n",
      "    [  0.0000,  22.0000, -33.0000],\n",
      "    [      --,       --,       --],\n",
      "    [      --,       --,       --],\n",
      "    [-13.0000,       --,       --],\n",
      "    [ -9.0000,   0.0000,       --],\n",
      "    [      --, -13.0000,       --]\n",
      "  ]\n",
      ")\n"
     ]
    }
   ],
   "source": [
    "data = torch.randn(8, 3).mul(10).int().float()\n",
    "mask = torch.randint(2, (8, 3), dtype=torch.bool)\n",
    "print(data)\n",
    "print(mask)\n",
    "m = masked_tensor(data, mask)\n",
    "print(m)"
   ]
  },
  {
   "cell_type": "markdown",
   "metadata": {
    "id": "8fUbL3yAZqZF"
   },
   "source": [
    "Reduction semantics based on https://github.com/pytorch/rfcs/pull/27"
   ]
  },
  {
   "cell_type": "code",
   "execution_count": 16,
   "metadata": {
    "colab": {
     "base_uri": "https://localhost:8080/"
    },
    "id": "M2wGD5hRpVDV",
    "outputId": "f5867cef-70b6-427b-c4bc-8fc066a98469"
   },
   "outputs": [
    {
     "name": "stdout",
     "output_type": "stream",
     "text": [
      "sum: masked_tensor(\n",
      "  [  0.0000,   5.0000, -11.0000,       --,       --, -13.0000,  -9.0000, -13.0000]\n",
      ")\n",
      "mean: masked_tensor(\n",
      "  [  0.0000,   5.0000,  -3.6667,       --,       --, -13.0000,  -4.5000, -13.0000]\n",
      ")\n",
      "prod: masked_tensor(\n",
      "  [  0.0000,   5.0000,  -0.0000,       --,       --, -13.0000,  -0.0000, -13.0000]\n",
      ")\n",
      "min: masked_tensor(\n",
      "  [  0.0000,   5.0000, -33.0000,       --,       --, -13.0000,  -9.0000, -13.0000]\n",
      ")\n",
      "max: masked_tensor(\n",
      "  [  0.0000,   5.0000,  22.0000,       --,       --, -13.0000,   0.0000, -13.0000]\n",
      ")\n"
     ]
    }
   ],
   "source": [
    "print(\"sum:\", torch.sum(m, 1))\n",
    "print(\"mean:\", torch.mean(m, 1))\n",
    "print(\"prod:\", torch.prod(m, 1))\n",
    "print(\"min:\", torch.amin(m, 1))\n",
    "print(\"max:\", torch.amax(m, 1))"
   ]
  },
  {
   "cell_type": "markdown",
   "metadata": {
    "id": "TyLv4Nf4dVtS"
   },
   "source": [
    "Now that we have reductions, let's revisit as to why we'll probably want to have a good reason to allow addition of MaskedTensors with different masks."
   ]
  },
  {
   "cell_type": "code",
   "execution_count": 10,
   "metadata": {
    "colab": {
     "base_uri": "https://localhost:8080/"
    },
    "id": "xMPyMU87fICJ",
    "outputId": "910e01fd-0da9-4e56-f91e-4a2087b4377b"
   },
   "outputs": [
    {
     "name": "stdout",
     "output_type": "stream",
     "text": [
      "\n",
      "npm0:\n",
      " [[-- -- 2.0 3.0 4.0]\n",
      " [5.0 6.0 7.0 -- --]]\n",
      "\n",
      "npm1:\n",
      " [[10.0 11.0 12.0 -- --]\n",
      " [-- -- 17.0 18.0 19.0]]\n",
      "\n",
      "(npm0 + npm1).sum(0):\n",
      " [-- -- 38.0 -- --]\n",
      "\n",
      "npm0.sum(0) + npm1.sum(0):\n",
      " [15.0 17.0 38.0 21.0 23.0]\n",
      "\n",
      "(data0 + data1).sum(0):\n",
      " tensor([30., 34., 38., 42., 46.])\n",
      "\n",
      "(data0 + data1).sum(0):\n",
      " tensor([30., 34., 38., 42., 46.])\n"
     ]
    }
   ],
   "source": [
    "data0 = torch.arange(10.).reshape(2, 5)\n",
    "data1 = torch.arange(10.).reshape(2, 5) + 10\n",
    "mask0 = torch.tensor([[True, True, False, False, False], [False, False, False, True, True]])\n",
    "mask1 = torch.tensor([[False, False, False, True, True], [True, True, False, False, False]])\n",
    "\n",
    "npm0 = np.ma.masked_array(data0.numpy(), (mask0).numpy())\n",
    "npm1 = np.ma.masked_array(data1.numpy(), (mask1).numpy())\n",
    "print(\"\\nnpm0:\\n\", npm0)\n",
    "print(\"\\nnpm1:\\n\", npm1)\n",
    "print(\"\\n(npm0 + npm1).sum(0):\\n\", (npm0 + npm1).sum(0))\n",
    "print(\"\\nnpm0.sum(0) + npm1.sum(0):\\n\", (npm0.sum(0) + npm1.sum(0)))\n",
    "print(\"\\n(data0 + data1).sum(0):\\n\", (data0 + data1).sum(0))\n",
    "print(\"\\n(data0 + data1).sum(0):\\n\", (data0.sum(0) + data1.sum(0)))"
   ]
  },
  {
   "cell_type": "markdown",
   "metadata": {
    "id": "FjSyaqqKgvYh"
   },
   "source": [
    "Sum and addition should be associative. However with NumPy's semantics we allow them not to be. Instead of allowing these semantics, at least in the case of addition and sum, we could ask the user to fill the MaskedTensor's undefined elements with 0 values or as in the MaskedTensor addition examples above be very specific about the semantics used. \n",
    "\n",
    "While it's obviously possible to support this, we think we should cover other operators first and really make sure we can't avoid this behavior via other means."
   ]
  },
  {
   "cell_type": "markdown",
   "metadata": {
    "id": "ADp2guJ6ZlMo"
   },
   "source": [
    "### Indexing and Advanced Indexing"
   ]
  },
  {
   "cell_type": "code",
   "execution_count": 11,
   "metadata": {
    "colab": {
     "base_uri": "https://localhost:8080/"
    },
    "id": "c3ESKLl0pYEj",
    "outputId": "41f3d277-177a-484a-9ae1-f89ef552a8d9"
   },
   "outputs": [
    {
     "name": "stdout",
     "output_type": "stream",
     "text": [
      "masked_tensor(\n",
      "  [\n",
      "    [\n",
      "      [ -7.9742,       --,       --],\n",
      "      [ -4.4461,       --,  -4.2783],\n",
      "      [      --,       --,       --],\n",
      "      [      --,   4.3313,  -4.1045],\n",
      "      [  2.2480,   0.0212,       --]\n",
      "    ],\n",
      "    [\n",
      "      [ 10.0361,       --,       --],\n",
      "      [      --,       --,       --],\n",
      "      [      --,       --,  -3.1340],\n",
      "      [  8.4769,       --,  -4.5447],\n",
      "      [ -3.1678,       --,       --]\n",
      "    ],\n",
      "    [\n",
      "      [  2.6252,       --,       --],\n",
      "      [  1.4931,       --,       --],\n",
      "      [  2.2236,  -8.5375,  -5.7018],\n",
      "      [ -0.5694,  -1.0786,   6.1231],\n",
      "      [  5.5496,       --,       --]\n",
      "    ],\n",
      "    [\n",
      "      [ -0.6714,   6.0766,   5.8140],\n",
      "      [      --,  -1.2277,       --],\n",
      "      [      --,  -0.8328,       --],\n",
      "      [ -0.6480,       --,       --],\n",
      "      [ -1.0956,  -4.6425,  -3.6873]\n",
      "    ]\n",
      "  ]\n",
      ")\n"
     ]
    }
   ],
   "source": [
    "data = torch.randn(4, 5, 3).mul(5).float()\n",
    "mask = torch.randint(2, (4, 5, 3), dtype=torch.bool)\n",
    "m = masked_tensor(data, mask)\n",
    "print(m)"
   ]
  },
  {
   "cell_type": "markdown",
   "metadata": {
    "id": "LgHrnMB7ZtOo"
   },
   "source": [
    "Example of indexing and advanced indexing"
   ]
  },
  {
   "cell_type": "code",
   "execution_count": 12,
   "metadata": {
    "colab": {
     "base_uri": "https://localhost:8080/"
    },
    "id": "RWGG2AA1r_R-",
    "outputId": "20ad0002-bb61-4a3a-c700-541ce229718d"
   },
   "outputs": [
    {
     "name": "stdout",
     "output_type": "stream",
     "text": [
      "masked_tensor(\n",
      "  [\n",
      "    [ -7.9742,       --,       --],\n",
      "    [ -4.4461,       --,  -4.2783],\n",
      "    [      --,       --,       --],\n",
      "    [      --,   4.3313,  -4.1045],\n",
      "    [  2.2480,   0.0212,       --]\n",
      "  ]\n",
      ")\n",
      "masked_tensor(\n",
      "  [\n",
      "    [\n",
      "      [ -7.9742,       --,       --],\n",
      "      [ -4.4461,       --,  -4.2783],\n",
      "      [      --,       --,       --],\n",
      "      [      --,   4.3313,  -4.1045],\n",
      "      [  2.2480,   0.0212,       --]\n",
      "    ],\n",
      "    [\n",
      "      [  2.6252,       --,       --],\n",
      "      [  1.4931,       --,       --],\n",
      "      [  2.2236,  -8.5375,  -5.7018],\n",
      "      [ -0.5694,  -1.0786,   6.1231],\n",
      "      [  5.5496,       --,       --]\n",
      "    ]\n",
      "  ]\n",
      ")\n",
      "masked_tensor(\n",
      "  [ -7.9742,  -4.4461,  -4.2783,   4.3313,  -4.1045,   2.2480,   0.0212,  10.0361,  -3.1340,   8.4769,  -4.5447,  -3.1678,   2.6252,   1.4931,   2.2236,  -8.5375,  -5.7018,  -0.5694,  -1.0786,   6.1231,   5.5496,  -0.6714,   6.0766,   5.8140,  -1.2277,  -0.8328,  -0.6480,  -1.0956,  -4.6425,  -3.6873]\n",
      ")\n"
     ]
    }
   ],
   "source": [
    "print(m[0])\n",
    "print(m[torch.tensor([0, 2])])\n",
    "print(m[m.mask()])"
   ]
  },
  {
   "cell_type": "markdown",
   "metadata": {},
   "source": [
    "### MaskedTensor gradient examples"
   ]
  },
  {
   "cell_type": "code",
   "execution_count": 13,
   "metadata": {
    "colab": {
     "base_uri": "https://localhost:8080/"
    },
    "id": "qEejo-1-sBMw",
    "outputId": "edd0d800-2c7c-4ea3-f67f-bbce070fc044"
   },
   "outputs": [
    {
     "name": "stdout",
     "output_type": "stream",
     "text": [
      "masked_tensor(\n",
      "  [\n",
      "    [\n",
      "      [      --,       --,  -0.5084],\n",
      "      [  6.7935, -15.3725,       --]\n",
      "    ],\n",
      "    [\n",
      "      [      --,   1.2078,       --],\n",
      "      [  6.5820,       --,  -1.6679]\n",
      "    ]\n",
      "  ]\n",
      ")\n",
      "s:  masked_tensor( -2.9655, True)\n",
      "m.grad:  masked_tensor(\n",
      "  [\n",
      "    [\n",
      "      [      --,       --,   1.0000],\n",
      "      [  1.0000,   1.0000,       --]\n",
      "    ],\n",
      "    [\n",
      "      [      --,   1.0000,       --],\n",
      "      [  1.0000,       --,   1.0000]\n",
      "    ]\n",
      "  ]\n",
      ")\n",
      "\n",
      " masked_tensor(\n",
      "  [\n",
      "    [\n",
      "      [      --,       --,       --],\n",
      "      [      --,       --,       --]\n",
      "    ],\n",
      "    [\n",
      "      [      --,       --,       --],\n",
      "      [      --,       --,       --]\n",
      "    ]\n",
      "  ]\n",
      ")\n",
      "s:  masked_tensor(--, False)\n",
      "m.grad:  masked_tensor(\n",
      "  [\n",
      "    [\n",
      "      [      --,       --,       --],\n",
      "      [      --,       --,       --]\n",
      "    ],\n",
      "    [\n",
      "      [      --,       --,       --],\n",
      "      [      --,       --,       --]\n",
      "    ]\n",
      "  ]\n",
      ")\n"
     ]
    }
   ],
   "source": [
    "torch.manual_seed(22)\n",
    "# Sum needs custom autograd, since the mask of the input should be maintained\n",
    "data = torch.randn(2, 2, 3).mul(5).float()\n",
    "mask = torch.randint(2, (2, 2, 3), dtype=torch.bool)\n",
    "m = masked_tensor(data, mask, requires_grad=True)\n",
    "print(m)\n",
    "s = torch.sum(m)\n",
    "print(\"s: \", s)\n",
    "s.backward()\n",
    "print(\"m.grad: \", m.grad)\n",
    "\n",
    "# sum needs to return a scalar MaskedTensor because the input might be fully masked\n",
    "data = torch.randn(2, 2, 3).mul(5).float()\n",
    "mask = torch.zeros(2, 2, 3, dtype=torch.bool)\n",
    "m = masked_tensor(data, mask, requires_grad=True)\n",
    "print(\"\\n\", m)\n",
    "s = torch.sum(m)\n",
    "print(\"s: \", s)\n",
    "s.backward()\n",
    "print(\"m.grad: \", m.grad)"
   ]
  },
  {
   "cell_type": "code",
   "execution_count": 14,
   "metadata": {
    "colab": {
     "base_uri": "https://localhost:8080/"
    },
    "id": "3N1Y7QFJMrdz",
    "outputId": "da5f6016-23cb-46e2-d949-ea145aea0037"
   },
   "outputs": [
    {
     "name": "stdout",
     "output_type": "stream",
     "text": [
      "x:\n",
      " masked_tensor(\n",
      "  [  3.0000,       --]\n",
      ")\n",
      "y:\n",
      " tensor([2., 1.], requires_grad=True)\n",
      "x * y:\n",
      " masked_tensor(\n",
      "  [  6.0000,       --]\n",
      ")\n",
      "\n",
      "x.grad:  masked_tensor(\n",
      "  [  2.0000,       --]\n",
      ")\n",
      "y.grad:  masked_tensor(\n",
      "  [  3.0000,       --]\n",
      ")\n"
     ]
    }
   ],
   "source": [
    "# Grad of multiplication of MaskedTensor and Tensor\n",
    "x = masked_tensor(torch.tensor([3.0, 4.0]), torch.tensor([True, False]), requires_grad=True)\n",
    "print(\"x:\\n\", x)\n",
    "y = torch.tensor([2., 1.]).requires_grad_()\n",
    "print(\"y:\\n\", y)\n",
    "# The mask broadcast in the sense that the result is masked.\n",
    "# In general a MaskedTensor is considered a generalization of Tensor's shape.\n",
    "# The mask is a more complex, higher dimensional shape and thus the Tensor\n",
    "# broadcasts to it. I'd love to find a more rigorous definition of this.\n",
    "z = x * y\n",
    "print(\"x * y:\\n\", z)\n",
    "z.sum().backward()\n",
    "print(\"\\nx.grad: \", x.grad)\n",
    "# The regular torch.Tensor now has a MaskedTensor grad\n",
    "print(\"y.grad: \", y.grad)"
   ]
  },
  {
   "cell_type": "markdown",
   "metadata": {},
   "source": [
    "### A note on is_contiguous"
   ]
  },
  {
   "cell_type": "code",
   "execution_count": 23,
   "metadata": {
    "colab": {
     "base_uri": "https://localhost:8080/"
    },
    "id": "ITWFisob5xNG",
    "outputId": "f6a6c891-212c-411d-923b-9d77fc5bcb4c"
   },
   "outputs": [
    {
     "name": "stdout",
     "output_type": "stream",
     "text": [
      "True torch.Size([2, 1, 2]) (2, 2, 1)\n",
      "True torch.Size([2, 1, 2]) (2, 4, 1)\n",
      "True torch.Size([2, 1, 2]) (2, 2, 1)\n",
      "True torch.Size([2, 1, 2]) (2, 2, 1)\n"
     ]
    }
   ],
   "source": [
    "# is_contiguous doesn't work\n",
    "t = torch.arange(4).reshape(1, 2, 2).float()\n",
    "mask = (t > 0).bool().clone()\n",
    "t = t.clone()\n",
    "mt = masked_tensor(t, mask)\n",
    "mt = mt.view(mt.size())\n",
    "mt = mt.transpose(0, 1)\n",
    "print(mt.is_contiguous(), mt.size(), mt.stride())\n",
    "print(mt.masked_data.is_contiguous(), mt.masked_data.size(), mt.masked_data.stride())\n",
    "mt = mt.view(mt.size())\n",
    "print(mt.is_contiguous(), mt.size(), mt.stride())\n",
    "mt = mt.contiguous()\n",
    "print(mt.is_contiguous(), mt.size(), mt.stride())"
   ]
  },
  {
   "cell_type": "code",
   "execution_count": 24,
   "metadata": {
    "id": "kHqeS_pwvQkD"
   },
   "outputs": [],
   "source": [
    "# Because .contiguous doesn't work we need to modify view to use reshape instead\n",
    "mask = (t > 0).bool().clone()\n",
    "t = t.clone()\n",
    "mt = masked_tensor(t, mask, requires_grad=True)\n",
    "mt = mt.view([4])\n",
    "mt.sum().backward()"
   ]
  }
 ],
 "metadata": {
  "colab": {
   "collapsed_sections": [],
   "name": "[Based on repo]MaskedTensor_torch_dispatch.ipynb",
   "provenance": [],
   "toc_visible": true
  },
  "jupytext": {
   "formats": "ipynb,md:myst"
  },
  "kernelspec": {
   "display_name": "Python 3 (ipykernel)",
   "language": "python",
   "name": "python3"
  },
  "language_info": {
   "codemirror_mode": {
    "name": "ipython",
    "version": 3
   },
   "file_extension": ".py",
   "mimetype": "text/x-python",
   "name": "python",
   "nbconvert_exporter": "python",
   "pygments_lexer": "ipython3",
   "version": "3.8.12"
  }
 },
 "nbformat": 4,
 "nbformat_minor": 4
}
