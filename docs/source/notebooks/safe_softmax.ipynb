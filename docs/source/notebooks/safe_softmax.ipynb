{
 "cells": [
  {
   "cell_type": "markdown",
   "id": "20398b5f-5dc8-407f-afda-d3904d7ae398",
   "metadata": {},
   "source": [
    "# Safe Softmax"
   ]
  },
  {
   "cell_type": "markdown",
   "id": "fed2afd6-f140-46d9-b1d5-04dede541198",
   "metadata": {},
   "source": [
    "[![Open in Colab](https://colab.research.google.com/assets/colab-badge.svg)](https://colab.research.google.com/github/pytorch/maskedtensor/blob/main/docs/source/notebooks/safe_softmax.ipynb)"
   ]
  },
  {
   "cell_type": "markdown",
   "id": "aa190fff-bdda-42a4-9de6-449b23fb1dca",
   "metadata": {},
   "source": [
    "## Motivation"
   ]
  },
  {
   "cell_type": "markdown",
   "id": "25a18d79-9739-49d4-8840-14086ff6050d",
   "metadata": {},
   "source": [
    "One of the issues that commonly comes up is the necessity for a safe softmax -- that is, if there is an entire batch that is \"masked out\" or consists entirely of padding (which in the softmax case translates to being set to `-inf`, then this will result in NaNs, which can lead to training divergence. For more detail on why this functionality is helpful, please find [Issue 55056 - Feature Request for Safe Softmax](https://github.com/pytorch/pytorch/issues/55056).\n",
    "\n",
    "Luckily, MaskedTensor has solved this issue already."
   ]
  },
  {
   "cell_type": "code",
   "execution_count": 17,
   "id": "3b383bc8-2922-4b41-bb76-1eb205d4d1b1",
   "metadata": {},
   "outputs": [],
   "source": [
    "import torch\n",
    "from maskedtensor import masked_tensor"
   ]
  },
  {
   "cell_type": "code",
   "execution_count": 10,
   "id": "42e177fe-ee42-499c-bf7f-96563b1c668d",
   "metadata": {},
   "outputs": [],
   "source": [
    "data = torch.randn(3, 3)\n",
    "mask = torch.tensor([\n",
    "    [True, False, False],\n",
    "    [True, False, True],\n",
    "    [False, False, False]\n",
    "])\n",
    "x = data.masked_fill(~mask, float('-inf'))\n",
    "\n",
    "m = masked_tensor(data, mask)"
   ]
  },
  {
   "cell_type": "markdown",
   "id": "9a399dd9-41a6-437a-9f61-7fbba21bc4a7",
   "metadata": {},
   "source": [
    "**PyTorch result**:"
   ]
  },
  {
   "cell_type": "code",
   "execution_count": 19,
   "id": "98d282f0-2629-44bd-abcd-f62e8793b669",
   "metadata": {},
   "outputs": [
    {
     "data": {
      "text/plain": [
       "tensor([[0.2291,    nan, 0.0000],\n",
       "        [0.7709,    nan, 1.0000],\n",
       "        [0.0000,    nan, 0.0000]])"
      ]
     },
     "execution_count": 19,
     "metadata": {},
     "output_type": "execute_result"
    }
   ],
   "source": [
    "x.softmax(0)"
   ]
  },
  {
   "cell_type": "markdown",
   "id": "c498c2fd-76ae-4abb-bc6b-ad2da908ed60",
   "metadata": {},
   "source": [
    "**MaskedTensor result**:"
   ]
  },
  {
   "cell_type": "code",
   "execution_count": 20,
   "id": "1b7fa497-e973-4e72-9c97-e3db4462ee02",
   "metadata": {},
   "outputs": [
    {
     "data": {
      "text/plain": [
       "masked_tensor(\n",
       "  [\n",
       "    [  0.2291,       --,       --],\n",
       "    [  0.7709,       --,   1.0000],\n",
       "    [      --,       --,       --]\n",
       "  ]\n",
       ")"
      ]
     },
     "execution_count": 20,
     "metadata": {},
     "output_type": "execute_result"
    }
   ],
   "source": [
    "m.softmax(0)"
   ]
  }
 ],
 "metadata": {
  "jupytext": {
   "formats": "ipynb,md:myst"
  },
  "kernelspec": {
   "display_name": "Python 3 (ipykernel)",
   "language": "python",
   "name": "python3"
  },
  "language_info": {
   "codemirror_mode": {
    "name": "ipython",
    "version": 3
   },
   "file_extension": ".py",
   "mimetype": "text/x-python",
   "name": "python",
   "nbconvert_exporter": "python",
   "pygments_lexer": "ipython3",
   "version": "3.8.12"
  }
 },
 "nbformat": 4,
 "nbformat_minor": 5
}
