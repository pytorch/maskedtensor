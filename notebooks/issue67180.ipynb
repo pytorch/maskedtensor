{
  "nbformat": 4,
  "nbformat_minor": 0,
  "metadata": {
    "colab": {
      "name": "issue67180.ipynb",
      "provenance": [],
      "authorship_tag": "ABX9TyOLSzIM4vmtjVyW9rXI5x8Q",
      "include_colab_link": true
    },
    "kernelspec": {
      "name": "python3",
      "display_name": "Python 3"
    },
    "language_info": {
      "name": "python"
    }
  },
  "cells": [
    {
      "cell_type": "markdown",
      "metadata": {
        "id": "view-in-github",
        "colab_type": "text"
      },
      "source": [
        "<a href=\"https://colab.research.google.com/github/cpuhrsch/maskedtensor/blob/main/notebooks/issue67180.ipynb\" target=\"_parent\"><img src=\"https://colab.research.google.com/assets/colab-badge.svg\" alt=\"Open In Colab\"/></a>"
      ]
    },
    {
      "cell_type": "code",
      "metadata": {
        "id": "Wj-jrFMEeHob"
      },
      "source": [
        "import torch\n",
        "import numpy as np\n",
        "if torch.__version__ != \"1.11.0.dev20210927+cpu\":\n",
        "    !pip uninstall --y torch\n",
        "    !pip install https://download.pytorch.org/whl/nightly/cpu/torch-1.11.0.dev20210927%2Bcpu-cp37-cp37m-linux_x86_64.whl\n",
        "    raise RuntimeError(\"Restart runtime now\")"
      ],
      "execution_count": 1,
      "outputs": []
    },
    {
      "cell_type": "code",
      "metadata": {
        "colab": {
          "base_uri": "https://localhost:8080/"
        },
        "id": "63sfz-bGePN7",
        "outputId": "dde4c39f-2063-4a1e-c3a6-5784cc9a9884"
      },
      "source": [
        "!pip install git+https://github.com/cpuhrsch/maskedtensor"
      ],
      "execution_count": 2,
      "outputs": [
        {
          "output_type": "stream",
          "name": "stdout",
          "text": [
            "Collecting git+https://github.com/cpuhrsch/maskedtensor\n",
            "  Cloning https://github.com/cpuhrsch/maskedtensor to /tmp/pip-req-build-9f32hu0h\n",
            "  Running command git clone -q https://github.com/cpuhrsch/maskedtensor /tmp/pip-req-build-9f32hu0h\n"
          ]
        }
      ]
    },
    {
      "cell_type": "code",
      "metadata": {
        "id": "GLvnOW3GeQ_S"
      },
      "source": [
        "# Import factory function\n",
        "from maskedtensor import masked_tensor\n",
        "from maskedtensor import as_masked_tensor"
      ],
      "execution_count": 3,
      "outputs": []
    },
    {
      "cell_type": "code",
      "metadata": {
        "colab": {
          "base_uri": "https://localhost:8080/"
        },
        "id": "fKmcnXSweS9L",
        "outputId": "c1d40c56-2f0c-40b5-9581-f5fa6b65999c"
      },
      "source": [
        "y = torch.arange(32).float()\n",
        "x = y * y.fmod(4)\n",
        "x = x.masked_fill(x == 0, float('nan'))\n",
        "print(x)\n",
        "print(torch.nanmean(x))\n",
        "print(torch.mean(masked_tensor(x, ~torch.isnan(x))))"
      ],
      "execution_count": 4,
      "outputs": [
        {
          "output_type": "stream",
          "name": "stdout",
          "text": [
            "tensor([nan,  1.,  4.,  9., nan,  5., 12., 21., nan,  9., 20., 33., nan, 13.,\n",
            "        28., 45., nan, 17., 36., 57., nan, 21., 44., 69., nan, 25., 52., 81.,\n",
            "        nan, 29., 60., 93.])\n",
            "tensor(32.6667)\n",
            "masked_tensor( 32.6667, True)\n"
          ]
        }
      ]
    },
    {
      "cell_type": "markdown",
      "metadata": {
        "id": "ylSTD0rHend5"
      },
      "source": [
        "[Issue 67180](https://github.com/pytorch/pytorch/issues/67180) encounters a long standing issue around nan gradients that stem from the fact that PyTorch can't differentiate between zero and nan gradients. MaskedTensor could be used to resolve this in one way by masking out the nan in the forward pass isntead of using nansum."
      ]
    },
    {
      "cell_type": "code",
      "metadata": {
        "colab": {
          "base_uri": "https://localhost:8080/"
        },
        "id": "Dk3xUvwzem4_",
        "outputId": "b4a22ec4-66b7-4344-82fc-24f7bfcce420"
      },
      "source": [
        "a = torch.tensor([1., 2., float('nan')])\n",
        "b = torch.tensor(1.0, requires_grad=True)\n",
        "c = a * b\n",
        "c1 = torch.nansum(c)  # or torch.nanmean\n",
        "\n",
        "bgrad1, = torch.autograd.grad(c1, b, retain_graph=True)\n",
        "print(bgrad1)"
      ],
      "execution_count": 5,
      "outputs": [
        {
          "output_type": "stream",
          "name": "stdout",
          "text": [
            "tensor(nan)\n"
          ]
        }
      ]
    },
    {
      "cell_type": "code",
      "metadata": {
        "colab": {
          "base_uri": "https://localhost:8080/"
        },
        "id": "cJZk4UOvgDD4",
        "outputId": "fdcc2d28-1b46-4067-e584-eb26300e3cfd"
      },
      "source": [
        "a = torch.tensor([1., 2., float('nan')])\n",
        "b = torch.tensor(1.0, requires_grad=True)\n",
        "ma = masked_tensor(a, ~torch.isnan(a))\n",
        "c = ma * b\n",
        "c1 = torch.sum(c)  # or torch.nanmean\n",
        "\n",
        "bgrad1, = torch.autograd.grad(c1, b, retain_graph=True)\n",
        "print(ma)\n",
        "print(b)\n",
        "print(c)\n",
        "print(c1)\n",
        "print(bgrad1)"
      ],
      "execution_count": 6,
      "outputs": [
        {
          "output_type": "stream",
          "name": "stdout",
          "text": [
            "masked_tensor(\n",
            "  [  1.0000,   2.0000,       --]\n",
            ")\n",
            "tensor(1., requires_grad=True)\n",
            "masked_tensor(\n",
            "  [  1.0000,   2.0000,       --]\n",
            ")\n",
            "masked_tensor(  3.0000, True)\n",
            "masked_tensor(  3.0000, True)\n"
          ]
        }
      ]
    },
    {
      "cell_type": "code",
      "metadata": {
        "id": "tpKNuBdrgN0M"
      },
      "source": [
        ""
      ],
      "execution_count": 6,
      "outputs": []
    }
  ]
}
